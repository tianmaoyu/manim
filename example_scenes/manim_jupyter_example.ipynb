{
 "cells": [
  {
   "cell_type": "code",
   "execution_count": 6,
   "metadata": {
    "jupyter": {
     "is_executing": true
    }
   },
   "outputs": [],
   "source": [
    "from manim import *"
   ]
  },
  {
   "cell_type": "code",
   "execution_count": 14,
   "metadata": {},
   "outputs": [],
   "source": [
    "%%manim -v WARNING --disable_caching -ql -s Example1\n",
    "\n",
    "class Example1(Scene):\n",
    "    def construct(self):\n",
    "        self.add(Circle())"
   ]
  },
  {
   "cell_type": "code",
   "metadata": {
    "ExecuteTime": {
     "end_time": "2024-05-14T06:26:57.885480Z",
     "start_time": "2024-05-14T06:26:57.854162Z"
    }
   },
   "source": [
    "%%manim -v WARNING --disable_caching -qm HelloManim\n",
    "\n",
    "# set the maximum width for video outputs to a predefined value\n",
    "config.media_width = \"20vw\"\n",
    "# embed video\n",
    "config.media_embed = True\n",
    "\n",
    "class HelloManim(Scene):\n",
    "    def construct(self):\n",
    "        self.camera.background_color = \"#ece6e2\"\n",
    "        banner_large = ManimBanner(dark_theme=False).scale(0.7)\n",
    "        self.play(banner_large.create())\n",
    "        self.play(banner_large.expand())"
   ],
   "outputs": [
    {
     "name": "stderr",
     "output_type": "stream",
     "text": [
      "UsageError: Cell magic `%%manim` not found.\n"
     ]
    }
   ],
   "execution_count": 1
  },
  {
   "metadata": {},
   "cell_type": "code",
   "outputs": [],
   "execution_count": null,
   "source": ""
  }
 ],
 "metadata": {
  "kernelspec": {
   "display_name": "Python 3",
   "language": "python",
   "name": "python3"
  },
  "language_info": {
   "codemirror_mode": {
    "name": "ipython",
    "version": 3
   },
   "file_extension": ".py",
   "mimetype": "text/x-python",
   "name": "python",
   "nbconvert_exporter": "python",
   "pygments_lexer": "ipython3",
   "version": "3.11.8"
  }
 },
 "nbformat": 4,
 "nbformat_minor": 4
}
